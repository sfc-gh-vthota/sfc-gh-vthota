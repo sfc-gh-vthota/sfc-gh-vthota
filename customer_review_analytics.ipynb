{
 "metadata": {
  "kernelspec": {
   "display_name": "Streamlit Notebook",
   "name": "streamlit"
  }
 },
 "nbformat_minor": 5,
 "nbformat": 4,
 "cells": [
  {
   "cell_type": "markdown",
   "id": "beafe711-0ff7-4aa6-bd2d-d58ffc95bb92",
   "metadata": {
    "name": "OVERVIEW_MD",
    "collapsed": false
   },
   "source": "# Tasty Bytes : Customer Review Analytics\n\nTasty Bytes is a global food truck network operating in 15 countries with fleet of 450 trucks. They collect customer reviews to get customer feedback on their food-trucks which come in from multiple sources and span multiple languages. This enables them to better understand the areas which require improvement and drive up customer loyalty along with satisfaction. \n\nIn this notebook, we will look at how we analyze these collated customer reviews using Snowflake Cortex to understand :\n  * How likely their customers are to recommend Tasty Bytes food trucks to someone they know \n  * How good their overall experience was\n  * How is the customer sentiment across customer base\n  * What customers are feel saying about different aspects like food, price etc\n  * What are the main issues and how to remedy them"
  },
  {
   "cell_type": "markdown",
   "id": "ec42fdf2-de02-4e89-ae78-d4316f2dd09c",
   "metadata": {
    "name": "COUNT_REVIEWS_MD",
    "collapsed": false
   },
   "source": "We can write SQL or Python code within Snowflake notebook and quickly compare results with cell-by-cell development and execution. Below, we write a quick SQL statement to view how many reviews we have."
  },
  {
   "cell_type": "code",
   "id": "12220c10-ff2d-4d95-af0e-fc8135efaf99",
   "metadata": {
    "language": "sql",
    "name": "COUNT_REVIEWS",
    "collapsed": false,
    "codeCollapsed": false
   },
   "outputs": [],
   "source": "SELECT COUNT(*) FROM TRUCK_REVIEWS_V;",
   "execution_count": null
  },
  {
   "cell_type": "markdown",
   "id": "4db3f281-4a3d-48a5-b07e-3e967ea5a824",
   "metadata": {
    "name": "IMPORT_PACKAGES_MD",
    "collapsed": false
   },
   "source": "**Import python packages**\n\nSnowflake Notebooks include Streamlit and the third-party packages listed in the Snowflake Anaconda channel. Installing a package is made easy by enabling user to select required pacakges from a list of available pacakges under Packages on the top right corner. Once installed, we can import installed packages as we would in any other notebook."
  },
  {
   "cell_type": "code",
   "id": "3775908f-ca36-4846-8f38-5adca39217f2",
   "metadata": {
    "language": "python",
    "name": "IMPORT_PACKAGES",
    "collapsed": false
   },
   "source": "# Import python packages\nimport streamlit as st\nimport pandas as pd\nimport seaborn as sns\nimport matplotlib.pyplot as plt\n\n# Snowpark\nfrom snowflake.snowpark.context import get_active_session\nimport snowflake.snowpark.functions as F\nfrom snowflake.snowpark.functions import when, date_part \n\n# Cortex Functions\nimport snowflake.cortex  as cortex\n\nsession = get_active_session()\n",
   "execution_count": null,
   "outputs": []
  },
  {
   "cell_type": "markdown",
   "id": "ba1549f9-f4d0-447d-b447-4927a17e5d56",
   "metadata": {
    "name": "PREVIEW_REVIEWS_MD",
    "collapsed": false
   },
   "source": "We can preview the reviews we have in the analytics view using Snowpark Dataframe."
  },
  {
   "cell_type": "code",
   "id": "4a2f5851-3b19-41b1-81a3-73f82b9c0966",
   "metadata": {
    "language": "python",
    "name": "PREVIEW_REVIEWS",
    "collapsed": false
   },
   "outputs": [],
   "source": "reviews_df = session.table('TRUCK_REVIEWS_V') \\\n             .filter(date_part(\"year\", F.col('DATE')) == 2024)\nreviews_df.show()",
   "execution_count": null
  },
  {
   "cell_type": "markdown",
   "id": "e9295fbb-0dd8-4c10-afa5-5eac47dd0d61",
   "metadata": {
    "name": "LANG_MD",
    "collapsed": false
   },
   "source": "Using Snowpark Dataframe and functions, we can do quick data exploration. Below, we look at the distinct languages available within our reviews."
  },
  {
   "cell_type": "code",
   "id": "b1c9e0ab-5e24-440a-8176-7dcd72ee1f5b",
   "metadata": {
    "language": "python",
    "name": "LANGUAGES_AVAIL",
    "collapsed": false
   },
   "outputs": [],
   "source": "reviews_df.select(F.col('LANGUAGE')).distinct()",
   "execution_count": null
  },
  {
   "cell_type": "markdown",
   "id": "214db186-a7d5-49ba-a428-6c335199741c",
   "metadata": {
    "name": "CORTEX_INTRO_MD",
    "collapsed": false
   },
   "source": "### Snowflake Cortex\n\nSnowflake Cortex is an intelligent, fully managed service that hosts and serves top-performing LLMs and vector functions which quickly and securely process text and build AI applications contextualized with  data stored in unstructured and semi-structured formats. We can access it via serverless SQL / Python functions. \nThe available capabilities include:\n- Perform complex reasoning tasks with your text data using COMPLETE.\n- Extract information from unstructured or semi-structured data using EXTRACT_ANSWER.\n- Automatically get a synopsis of text with SUMMARIZE.\n- Detect the mood or tone of text using SENTIMENT.\n- Translate documents to other languages using TRANSLATE.\n\n\n\n\nIn the next cell, we leverage **Translate** - one of the **Snowflake Cortex specialised LLM functions** are available in Snowpark ML, to translate the multilingual reviews to english to enable easier analysis for folks who don't speak the language the original review is in."
  },
  {
   "cell_type": "code",
   "id": "43b8f914-e41b-433a-8544-5c20eb742dc5",
   "metadata": {
    "language": "python",
    "name": "CORTEX_TRANSLATE",
    "collapsed": false,
    "codeCollapsed": false
   },
   "outputs": [],
   "source": "# Conditionally translate reviews that are not english using Cortex Translate\nreviews_df = reviews_df.withColumn('TRANSLATED_REVIEW',when(F.col('LANGUAGE') != F.lit(\"en\"), \\\n                                                            cortex.Translate(F.col('REVIEW'), \\\n                                                                             F.col('LANGUAGE'), \\\n                                                                             \"en\")) \\\n                                   .otherwise(F.col('REVIEW')))\n\nreviews_df.filter(F.col('LANGUAGE') != F.lit(\"en\")) \\\n.select([\"REVIEW\",\"LANGUAGE\",\"TRANSLATED_REVIEW\"]).show(3)",
   "execution_count": null
  },
  {
   "cell_type": "markdown",
   "id": "66114955-2484-47ab-9874-fb04ee76bf69",
   "metadata": {
    "name": "RATING_MD",
    "collapsed": false
   },
   "source": "In the following cell, we utilize **Snowflake Cortex - Complete** function to understand at scale based on a given customer's review what rating that customer is likely to rate their experience at the food truck. \n\nWe provide a prompt with the instruction of the task along with a sample example of the completed task also known as **one-shot learning**. This prompt is then provided to complete function along with the review. "
  },
  {
   "cell_type": "code",
   "id": "a00477b9-8f8f-478d-9731-6bbca5728c99",
   "metadata": {
    "language": "python",
    "name": "GET_RATINGS",
    "collapsed": false,
    "codeCollapsed": false
   },
   "outputs": [],
   "source": "# Prompt to get a rating based on a customer review\n# We provide one shot incontext learning to better the answers we get from LLM\nprompt = \"\"\"[INST]\n### \nYou are tasked with rating cutsomer reviews for global food truck network called tasty bytes. \\\nRating can be one of the following - awful, poor, okay, good, excellent such that awful is the worst \\\npossible rating and excellent is the best possible rating. Include only the rating in the output \\\nwithout any additional text. \\\nRate the following review:\nThe \"Freezing Point\" ice cream truck in Seoul offered a mix of classic and unique \\\noptions. The Sugar Cone and Waffle Cone were both fresh and crisp, providing a satisfying crunch. The \\\nBottled Water and Ice Tea were standard, as expected. The standout, however, was the Mango Sticky Rice \\\n- a delightful blend of sweet and tangy, it was a refreshing twist to the usual ice cream flavors. The \\\nservice was efficient, but lacked a personal touch. Overall, it\\'s a decent choice for a quick, cool \\\ntreat in the city.\nRating : good\nRate the following review: \n###\"\"\"\n\n# Ask cortex complete and create a new column\nreview_df = reviews_df.withColumn('RATING', cortex.Complete('mixtral-8x7b', \\\n                                                            F.concat(F.lit(prompt), \\\n                                                                     F.col('REVIEW'), \\\n                                                                     F.lit(\"\"\"[/INST]\"\"\"))))\\\n.withColumn('CLEAN_RATING', when(F.contains(F.lower(F.col('RATING')), F.lit('awful')), \\\n                                                            F.lit('awful')) \\\n             .when(F.contains(F.lower(F.col('RATING')), F.lit('poor' )), \\\n                                                            F.lit('poor')) \\\n            .when(F.contains(F.lower(F.col('RATING')), F.lit('okay')), \\\n                                                            F.lit('okay')) \\\n            .when(F.contains(F.lower(F.col('RATING')), F.lit('good')), \\\n                                                            F.lit('good')) \\\n            .when(F.contains(F.lower(F.col('RATING')), F.lit('excellent')), \\\n                                                            F.lit('excellent')) \\\n                                   .otherwise(F.lit('unsure')))\n\nreview_df.select([\"REVIEW\",\"CLEAN_RATING\"]).show(3)",
   "execution_count": null
  },
  {
   "cell_type": "markdown",
   "id": "6bac2888-1344-4ea9-85aa-49e38afad859",
   "metadata": {
    "name": "RECOMMEND_MD",
    "collapsed": false
   },
   "source": "We can similarly understand if a customer would recommend the food truck based on their review using Snowflake Cortex complete. \n\nThis time we don't provide any sample examples for the task within the prompt just the instruction - zero shot learning. Complete does a fairly good job at the required task."
  },
  {
   "cell_type": "code",
   "id": "643e40f5-3484-4208-b370-cdf480319555",
   "metadata": {
    "language": "python",
    "name": "INTENT_TO_RECOMMEND",
    "collapsed": false,
    "codeCollapsed": false
   },
   "outputs": [],
   "source": "# Prompt to understand whether a customer would recommend food truck based on their review \nprompt = \"\"\"[INST]\n### \nTell me based on the following food truck customer review, will they recommend the food truck to \\\ntheir friends and family? Answer should be only one of the following words - \\\n\"Likely\" or \"Unlikely\" or \"Unsure\". Make sure there are no additional additional text.\nReview -\n###\"\"\"\n\n# Ask cortex complete and create a new column\nreviews_df = reviews_df.withColumn('RECOMMEND', cortex.Complete('snowflake-arctic', \\\n                                                            F.concat(F.lit(prompt), \\\n                                                                     F.col('REVIEW'), \\\n                                                                     F.lit(\"\"\"[/INST]\"\"\"))))\\\n.withColumn('CLEAN_RECOMMEND', when(F.contains(F.col('RECOMMEND'), F.lit('Likely')), \\\n                                                            F.lit('Likely')) \\\n                                       .when(F.contains(F.col('RECOMMEND'), F.lit('Unlikely' )), \\\n                                                            F.lit('Unlikely')) \\\n            .when(F.contains(F.col('RECOMMEND'), F.lit('Unsure' )), \\\n                                                            F.lit('Unsure')) \\\n                                   .otherwise(F.lit('NA')))\n\nreviews_df.select([\"REVIEW\",\"CLEAN_RECOMMEND\"]).show(3)",
   "execution_count": null
  },
  {
   "cell_type": "markdown",
   "id": "ddb51e52-d32d-41e1-afa4-bea3237be2b5",
   "metadata": {
    "name": "ANALYSIS_MD",
    "collapsed": false
   },
   "source": "In the above cells, we called the  LLM function on a Snowpark Dataframe column and created new columns which enabling us to use the insights delivered by Cortex in our data exploration. \n\nWe can see this action in the upcoming cells where we exploring the distribution of likelihood of recommendation across different truck brands and trucks using Snowpark Dataframe."
  },
  {
   "cell_type": "code",
   "id": "9f50ccf9-1002-4427-82ae-c0b94a225356",
   "metadata": {
    "language": "python",
    "name": "RECOMMEND_BRAND_DIST",
    "collapsed": false,
    "codeCollapsed": false
   },
   "outputs": [],
   "source": "\n# Aggregate recommend categories across truck brands\nreviews_df_agg = reviews_df.group_by([\"TRUCK_BRAND_NAME\",\"CLEAN_RECOMMEND\"]).count()\\\n                .order_by([\"TRUCK_BRAND_NAME\",\"CLEAN_RECOMMEND\"]).toPandas()\n\n# Write dataframe\nst.dataframe(reviews_df_agg)\n",
   "execution_count": null
  },
  {
   "cell_type": "code",
   "id": "7bfc1ab5-6ef6-489a-8ae1-73a40b3fdf28",
   "metadata": {
    "language": "python",
    "name": "REC_BRAND_BAR_CHART",
    "collapsed": false
   },
   "outputs": [],
   "source": "# Get proportion of diff recommendation categories for truck brands\nreviews_df_agg[\"PROPORTION\"] = (reviews_df_agg['COUNT']/reviews_df_agg.groupby('TRUCK_BRAND_NAME')['COUNT'].transform('sum')) * 100\n\n# Create the figure and axis\nfig, ax = plt.subplots(figsize=(12, 6))\n\ncolors = {'Unlikely': \"#FF4B4B\", 'Likely': \"#21C354\", 'Unsure': \"#A3A8B8\"}\n\n# Plot the stacked bar chart\nsns.barplot(y='TRUCK_BRAND_NAME', x='PROPORTION', hue='CLEAN_RECOMMEND', data=reviews_df_agg, \\\n            palette=colors, orient='h', ax=ax)\n\n# Set the y-axis label and limits\nax.set_xlabel('PERCENTAGE')\n\n# Add a legend\nax.legend(title='Recommendation')\n\n# Add grid lines\nax.grid(axis='x')\n\n# Set the title\nax.set_title('Customer Intent to recommend by Brand')\n\n# Display the chart\nplt.show()",
   "execution_count": null
  },
  {
   "cell_type": "markdown",
   "id": "2d335804-3fe8-4ba6-990a-ed89bb3debca",
   "metadata": {
    "name": "KITKAT_RAMEN_MD",
    "collapsed": false
   },
   "source": "We see above that Kitkat Ramen Bar has a high proportion of customers who are unlikely to recommend their food trucks. Next, we dive deeper to see which specific trucks within Kitkat Ramen Bar may be behind this issue. "
  },
  {
   "cell_type": "code",
   "id": "2f0130b0-ba2b-40fc-a861-569951e40a43",
   "metadata": {
    "language": "python",
    "name": "REC_KITKAT_RAMEN_TRUCK_BARCHART",
    "collapsed": false,
    "codeCollapsed": false
   },
   "outputs": [],
   "source": "# Counts of recommendation category by truck\nramen_truck_df = reviews_df.filter(F.col(\"TRUCK_BRAND_NAME\") == F.lit('Kitakata Ramen Bar'))\\\n                .group_by([\"TRUCK_ID\",\"CLEAN_RECOMMEND\"]).count().toPandas()\n\n# Get proportion of diff recommendation categories by truck\nramen_truck_df[\"PROPORTION\"] = (ramen_truck_df['COUNT']/ramen_truck_df.groupby('TRUCK_ID')['COUNT'].transform('sum')) * 100\n\n# Create the figure and axis\nfig, ax = plt.subplots(figsize=(12, 6))\n\ncolors = {'Unlikely': \"#FF4B4B\", 'Likely': \"#21C354\", 'Unsure': \"#A3A8B8\"}\n# Plot the stacked bar chart\nsns.barplot(y='TRUCK_ID', x='PROPORTION', hue='CLEAN_RECOMMEND', data=ramen_truck_df, orient='h', palette=colors, \\\n            ax=ax) \n\n# Set the y-axis label and limits\nax.set_xlabel('Count')\n\n# Add a legend\nax.legend(title='Recommendation')\n\n# Add grid lines\nax.grid(axis='x')\n\n# Set the title\nax.set_title('Customer Intent to recommend by Kitakata Ramen Bar trucks')\n\n# Display the chart\nplt.show()",
   "execution_count": null
  },
  {
   "cell_type": "markdown",
   "id": "b7e43b9a-a002-4893-9513-565bdd6a25af",
   "metadata": {
    "name": "TRUCK5_RECOMMEND_MD",
    "collapsed": false
   },
   "source": "Trucks apart from Truck 5 seem to have a healthy proportion of likely to unlikely to recommend customers. Further down in the notebook, we will look at the reason why the customers are not likely to recommend Truck 5 to others."
  },
  {
   "cell_type": "markdown",
   "id": "90e8df6d-4bf1-42b2-b6db-30d109bd69c9",
   "metadata": {
    "name": "SENTIMENT_MD",
    "collapsed": false
   },
   "source": "So far we saw Snowflake Cortex - Translate & Complete. Next we will look at another **task specific LLM function in Cortex - Sentiment**. We utilise sentiment function to understand customer's tone based on the review they provided. Sentiment return value between -1 and 1 such that -1 is the most negative while 1 is the most positive.  "
  },
  {
   "cell_type": "code",
   "id": "965c69e0-5312-4f4f-89f1-12f52c849453",
   "metadata": {
    "language": "python",
    "name": "CORTEX_SENTIMENT",
    "collapsed": false
   },
   "outputs": [],
   "source": "# Understand the sentiment of customer review using Cortex Sentiment\nreviews_df = reviews_df.withColumn('SENTIMENT', cortex.Sentiment(F.col('REVIEW')))\n\nreviews_df.select([\"REVIEW\",\"SENTIMENT\"]).show(3)",
   "execution_count": null
  },
  {
   "cell_type": "markdown",
   "id": "b9edf904-df4f-408a-ba13-5fb26b53c16f",
   "metadata": {
    "name": "SENTIMENT_DIST_ACROSS_TIME_MD",
    "collapsed": false
   },
   "source": "Next, we visualise sentiment across time and can see a healthy distribution of positive, negative & neutral reviews. "
  },
  {
   "cell_type": "code",
   "id": "ec3162fb-e6c2-4284-8567-603344150345",
   "metadata": {
    "language": "python",
    "name": "SENTIMENT_DIST_ACROSS_TIME",
    "collapsed": false,
    "codeCollapsed": false
   },
   "outputs": [],
   "source": "# Get count of review based sentiment group - positive, negative & neutral across time\nreviews_df_agg = reviews_df.withColumn('SENTIMENT_GRP', when(F.col('SENTIMENT') > 0.3, \\\n                                                            F.lit('POSITIVE')) \\\n                                       .when(F.col('SENTIMENT') < -0.3, \\\n                                                            F.lit('NEGATIVE'))\n                                   .otherwise(F.lit('NEUTRAL')))\\\n                            .group_by(['DATE','SENTIMENT_GRP']).count().toPandas()\n\n\n\n# Vizulaise sentimeny across time\nsns.set_color_codes(\"pastel\")\ncolors = {'NEGATIVE': \"#FF4B4B\", 'POSITIVE': \"#21C354\", 'NEUTRAL': \"#A3A8B8\"}\nlp = sns.lineplot(x=\"DATE\", y=\"COUNT\", hue=\"SENTIMENT_GRP\", data=reviews_df_agg, palette=colors)\nlp.legend(loc='upper right', bbox_to_anchor=(1.6, 1))\nplt.title(\"Review sentiment distribution for 2024\")\nplt.xlabel(\"Time\")\nplt.ylabel(\"Count\")\nplt.show()",
   "execution_count": null
  },
  {
   "cell_type": "markdown",
   "id": "56657af0-d59b-428a-9ae1-032a7b3dcd0c",
   "metadata": {
    "name": "ASPECT_BASED_SENTIMENT_MD",
    "collapsed": false
   },
   "source": "We can take our analysis a step further by looking at aspect based sentiment instead just the overall sentiment of review and understand what the customers thinks about different aspects like food quality, service, pricing etc. \nWe do so by leveraging Snowflake cortex Complete coupled with a prompt that includes one shot example. "
  },
  {
   "cell_type": "code",
   "id": "c6910627-7869-47b2-b2fd-982d2d6b1c94",
   "metadata": {
    "language": "python",
    "name": "ASPECT_BASED_SENTIMENT",
    "collapsed": false
   },
   "outputs": [],
   "source": "# Prompt to understand sentiment for different categories mentioned in the customer review\n# We employ one shot incontext learning to inform LLM\nprompt = \"\"\"[INST]\n### \nYou are analyzing food-truck customer reviews to undertsand what a given review says about different relevant categories like \\\nfood quality, menu options, staff, overall experience, price, ambience, customer support, \\\nhygiene standards etc and if sentiment is negative,positive or neutral for that category. \\\nOnly answer in a single valid JSON containing \"category\", \"sentiment\" and \"details\". \\\nMake sure there is no additional text and not mention categories in answer which are not \\\ntalked in the review. \\\nGet category based sentiment for the follwoing customer review:\n\"This food truck offers a disappointing experience. \\\nThe menu lacks healthy options and the food quality is subpar. Finding a parking spot near the \\\ntruck can also be a frustrating ordeal. Additionally, the value for money is not worth it. To top \\\nit all off, the service provided at this food truck is less than pleasant, adding to the overall \\\nnegative dining experience. Tried reaching out the customer support but was unable to get through.\" \nAnswer : [{     \"category\": \"food quality\",     \"sentiment\": \"negative\",    \"details\": \"subpar quality\"   }, {     \"category\": \"menu options\",     \"sentiment\": \"negative\",     \"details\": \"lacks healthy options\"   },   {     \"category\": \"staff\",     \"sentiment\": \"negative\",     \"details\": \"unpleasant\"   },   {     \"category\": \"price\",     \"sentiment\": \"negative\",     \"details\": \"not worth the money\"   },   {     \"category\": \"experience\",     \"sentiment\": \"negative\",     \"details\": \"regrettable dining experience\"   },   {     \"category\": \"customer support\",     \"sentiment\": \"negative\",     \"details\": \"unable to get through\"   } ].\nGet category based sentiment for the follwoing customer review:\n###\"\"\"\n\n# Ask Cortex Complete and create a new column\nreview_df = reviews_df.withColumn('CATEGORY_SENTIMENT', cortex.Complete('mixtral-8x7b', \\\n                                                            F.concat(F.lit(prompt), \\\n                                                                     F.col('REVIEW'), \\\n                                                                     F.lit(\"\"\"Answer:[/INST]\"\"\"))))\nreview_df.select([\"REVIEW\",\"CATEGORY_SENTIMENT\"]).show(1)",
   "execution_count": null
  },
  {
   "cell_type": "markdown",
   "id": "168f30c2-caa5-4d51-92dc-e9db2be3d8be",
   "metadata": {
    "name": "MOST_NEG_100_MD",
    "collapsed": false
   },
   "source": "Using the sentiment we derieved and Complete, we aggregate the top most negative reviews for tasty bytes and understand what are the main issues plaguing the food truck network.\n\nWe can see the 3 main issues - \n- Poor Food Quality\n- Unresponsive Customer Support\n- Unacceptable Service\n"
  },
  {
   "cell_type": "code",
   "id": "2810b7e1-687d-4f0e-b811-c4b79ef892a9",
   "metadata": {
    "language": "python",
    "name": "ALL_MOST_NEG_100",
    "collapsed": false
   },
   "outputs": [],
   "source": "# Aggregrate the 100 most negative reviews for tasty bytes\nreviews_agg_ = reviews_df.order_by(F.col('SENTIMENT')).select(F.col('REVIEW')).first(100)\n\nreviews_agg_str = ''.join(map(str,reviews_agg_))\n\n# Prompt to summarize the three top issues flagged in the aggregated reviews\nprompt = \"\"\"[INST]###Summarize the issues mentioned in following aggregated food truck customer reviews with three \\\nconcise bullet points under 50 words each such that each bullet point also has a heading along with \\\nrecommendations to remedy those issues.###\"\"\" + reviews_agg_str + \"\"\"[/INST]\"\"\"\n\n# Answer from Cortex Complete\nprint(cortex.Complete('mistral-large', prompt))",
   "execution_count": null
  },
  {
   "cell_type": "markdown",
   "id": "8093f1f0-b7f5-44e5-a6f3-84f2ce5526db",
   "metadata": {
    "name": "SENTIMENT_BY_TRUCK_MD",
    "collapsed": false
   },
   "source": "We utilize sentiment next to understand which truck has the most negative reviews on average. This analysis confirms Truck 5 to be the most negatively reviewed truck. "
  },
  {
   "cell_type": "code",
   "id": "ef996059-a313-4035-acd9-facadfff5cac",
   "metadata": {
    "language": "python",
    "name": "SENTIMENT_BY_TRUCK",
    "collapsed": false
   },
   "outputs": [],
   "source": "# Get average sentiment of reviews for Trucks \ntruck_agg_reviews_df = reviews_df.groupBy(F.col('TRUCK_ID')) \\\n                .agg(F.avg(F.col('SENTIMENT')).alias('AVG_SENTIMENT'),F.count(F.col('REVIEW_ID')).alias('REVIEW_COUNT')) \ntruck_agg_reviews_df.show(3)",
   "execution_count": null
  },
  {
   "cell_type": "code",
   "id": "216a2fbe-5122-45d2-9592-dfacfd0c8e2f",
   "metadata": {
    "language": "python",
    "name": "MOST_NEGATIVELY_REVIEWED_TRUCK",
    "collapsed": false
   },
   "outputs": [],
   "source": "# Get the truck with most negative average sentiment\ntruck_agg_reviews_df.filter(F.col('REVIEW_COUNT') >= 10).order_by(F.col('AVG_SENTIMENT')) \\\n                .select(F.col('TRUCK_ID')).limit(1).collect()[0][0]",
   "execution_count": null
  },
  {
   "cell_type": "markdown",
   "id": "240949c8-3796-461a-ae9a-5cdcc86a25ad",
   "metadata": {
    "name": "UNDERSTAND_TRUCK_ISSUES_MD",
    "collapsed": false
   },
   "source": "We can quickly analysis the most negative reviews for Truck 5 to understand the main issues that the customers complain about by leveraging Snowflake cortex Complete."
  },
  {
   "cell_type": "code",
   "id": "04c79d42-fd94-48d3-8ffd-7423b792bac9",
   "metadata": {
    "language": "python",
    "name": "UNDERSTAND_TRUCK_ISSUES",
    "collapsed": false
   },
   "outputs": [],
   "source": "# Aggregate the most negative reviews for Truck 5\nreviews_agg_ = reviews_df.filter(F.col('TRUCK_ID') == cells.MOST_NEGATIVELY_REVIEWED_TRUCK)\\\n               .order_by(F.col('SENTIMENT')).select(F.col('REVIEW')).first(100)\n\nreviews_agg_str = ''.join(map(str,reviews_agg_))\n\n# Prompt to understand the main issues with Truck 5\nprompt = \"\"\"[INST]###Summarize three main issues mentioned in following aggregated customer review with three concise bullet \npoints under 50 words each such that each bullet point also has a heading.###\"\"\" + reviews_agg_str + \"\"\"[/INST]\"\"\"\n\n# Print Cortex Complete's answer\nprint(cortex.Complete('mistral-large', prompt))",
   "execution_count": null
  },
  {
   "cell_type": "markdown",
   "id": "39b3c9c2-0429-4a35-a0b9-07d8a73678cf",
   "metadata": {
    "name": "EMAIL_MD",
    "collapsed": false
   },
   "source": "We can ask Snowflake cortex Complete to draft an email which summarizes the issues at Truck 5 along with any recommendation to remedy them."
  },
  {
   "cell_type": "code",
   "id": "83f6b0d7-a054-4fc7-a53c-d264fc0a8d83",
   "metadata": {
    "language": "python",
    "name": "GENERATE_EMAIL_RESPONSE",
    "collapsed": false
   },
   "outputs": [],
   "source": "# Prompt to get an email draft which reports the main issues with Truck 5 with recommendations to solve\nprompt =\"\"\" [INST]### Write me survey report email to the franchise owner summarizing the issues mentioned in following \\\naggregated customer review with three concise bullet points under 50 words each such that each bullet \\\npoint also has a heading along with recommendations to remedy those issues.###\"\"\"+ reviews_agg_str +\"\"\" \\\nMention the truck brand name and location in the email.[/INST]\"\"\"\n\n# Print the result from Cortex Complete\nprint(cortex.Complete('mixtral-8x7b', prompt))",
   "execution_count": null
  }
 ]
}